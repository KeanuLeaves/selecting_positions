{
 "cells": [
  {
   "cell_type": "markdown",
   "metadata": {},
   "source": [
    "## Intro\n",
    "This notebook demonstrates the usage of the `MC_sep.py`, which is a simple tool running MC for optimization of the alignment column separation into two subsets with minimal entropy."
   ]
  },
  {
   "cell_type": "code",
   "execution_count": 1,
   "metadata": {},
   "outputs": [],
   "source": [
    "%load_ext autoreload\n",
    "%autoreload 2"
   ]
  },
  {
   "cell_type": "code",
   "execution_count": 2,
   "metadata": {},
   "outputs": [],
   "source": [
    "import numpy as np\n",
    "import seaborn as sns\n",
    "import matplotlib.pyplot as plt\n",
    "from tqdm.notebook import tqdm\n",
    "\n",
    "from label_column import label\n",
    "from MC_sep import entropy, encode_input, entropy_gain, run, score\n",
    "\n",
    "np.random.seed(42)"
   ]
  },
  {
   "cell_type": "code",
   "execution_count": 3,
   "metadata": {},
   "outputs": [],
   "source": [
    "! mkdir -p ./test_samples/"
   ]
  },
  {
   "cell_type": "markdown",
   "metadata": {},
   "source": [
    "## Extract a test column\n",
    "`label_column.py` allows to extract any column from the alignment and label it based on `header_flag` argument. It will also create random initial labeling to start the MC from."
   ]
  },
  {
   "cell_type": "code",
   "execution_count": 4,
   "metadata": {},
   "outputs": [
    {
     "name": "stdout",
     "output_type": "stream",
     "text": [
      "Usage: label_column.py [OPTIONS]\n",
      "\n",
      "  Command-line tool selects a columns from the `input_alignment` and\n",
      "  constructs a binary labels of characters in the column\n",
      "\n",
      "Options:\n",
      "  -i, --input_alignment TEXT   a path to the input alignment  [required]\n",
      "  -H, --header_flag TEXT       if a sequence header contains this flag, it\n",
      "                               will be assigned class 1, and 0 otherwise\n",
      "                               [required]\n",
      "\n",
      "  -R, --random_bin_sep         if flag is provided, random initial separation\n",
      "                               into binary classes is added\n",
      "\n",
      "  -n, --column_number INTEGER  the number of column in the alignment starting\n",
      "                               from 0; if not provided a random column is\n",
      "                               selected\n",
      "\n",
      "  -o, --output_path FILENAME   path to write an output; if not provided,\n",
      "                               stdout is used\n",
      "\n",
      "  -s, --skip INTEGER           if provided, this number of sequences from the\n",
      "                               start will be skipped\n",
      "\n",
      "  --help                       Show this message and exit.\n"
     ]
    }
   ],
   "source": [
    "! python label_column.py --help"
   ]
  },
  {
   "cell_type": "markdown",
   "metadata": {},
   "source": [
    "Here we extract a `n-th` column from the alignment, create a \"true\" binary labels based on the presence of \"out\" in the sequence header, and create a random initial labeling. Note also that `-s 1` allows to skip the first (annotation) sequence."
   ]
  },
  {
   "cell_type": "code",
   "execution_count": 5,
   "metadata": {},
   "outputs": [],
   "source": [
    "! python label_column.py -i ./test_samples/repr_aln_corrected.fasta -H out -R -s 1 -n 87 -o ./test_samples/col.txt"
   ]
  },
  {
   "cell_type": "markdown",
   "metadata": {},
   "source": [
    "In the output, the first line is an extracted column, the second line is the true labeling (1 for \"out\" containing sequences), and the third is a random initial labeling."
   ]
  },
  {
   "cell_type": "code",
   "execution_count": 6,
   "metadata": {},
   "outputs": [
    {
     "name": "stdout",
     "output_type": "stream",
     "text": [
      "RKRMRRRRNRERRRRRTSARRGGSSSDDDSSSSQRAEKRRNNNEMERKETEKREQKRRRRSTRRRRRRRRRMMNKKNNMCKNSTENRWEERKQQQKKRTQMNQSSRRRKTTNRRSEKKRCQSRINNISTQELQRRRSNQRRRRSSGRTTS\n",
      "000000000000000000000000000000000000000000000000000000000000000000000000000000000000000000000000000000000011111111111111111111111111111111111111111111\n",
      "000101000010110001010110101100101101011011011111111011100010010111001100111111110011000000111110110110011010000110111000011011101010010000100101011010\n"
     ]
    }
   ],
   "source": [
    "cat ./test_samples/col.txt"
   ]
  },
  {
   "cell_type": "markdown",
   "metadata": {},
   "source": [
    "## Encode the column"
   ]
  },
  {
   "cell_type": "markdown",
   "metadata": {},
   "source": [
    "`encode_input` takes this file and encodes it into numpy arrays. True labels are preserved, and sequence characters are encoded into numbers for a faster entropy calculation. However, passing `init=False` allows to disregard the initial labeling and create a new one."
   ]
  },
  {
   "cell_type": "code",
   "execution_count": 7,
   "metadata": {},
   "outputs": [
    {
     "name": "stdout",
     "output_type": "stream",
     "text": [
      "000000000000000000000000000000000000000000000000000000000000000000000000000000000000000000000000000000000011111111111111111111111111111111111111111111\n",
      "011100011101100001001000010110100111001000010101101111110000001001010110011110001100001110011110100001011001000011111011110000110100001011011000001100\n"
     ]
    }
   ],
   "source": [
    "with open('./test_samples/col.txt') as f:\n",
    "    col, true_lab, init_lab = encode_input(f, init=False)\n",
    "print(*true_lab, sep='')\n",
    "print(*init_lab, sep='')"
   ]
  },
  {
   "cell_type": "markdown",
   "metadata": {},
   "source": [
    "## Run the simulation\n",
    "First we run the simulation using `run` function which gradually optimizes the initial separation into the one which divides the column into subsets with minimal entropy."
   ]
  },
  {
   "cell_type": "code",
   "execution_count": 8,
   "metadata": {},
   "outputs": [
    {
     "data": {
      "text/plain": [
       "\u001b[0;31mSignature:\u001b[0m\n",
       "\u001b[0mrun\u001b[0m\u001b[0;34m(\u001b[0m\u001b[0;34m\u001b[0m\n",
       "\u001b[0;34m\u001b[0m    \u001b[0mcolumn\u001b[0m\u001b[0;34m:\u001b[0m \u001b[0mnumpy\u001b[0m\u001b[0;34m.\u001b[0m\u001b[0mndarray\u001b[0m\u001b[0;34m,\u001b[0m\u001b[0;34m\u001b[0m\n",
       "\u001b[0;34m\u001b[0m    \u001b[0mlabels\u001b[0m\u001b[0;34m:\u001b[0m \u001b[0mnumpy\u001b[0m\u001b[0;34m.\u001b[0m\u001b[0mndarray\u001b[0m\u001b[0;34m,\u001b[0m\u001b[0;34m\u001b[0m\n",
       "\u001b[0;34m\u001b[0m    \u001b[0msteps\u001b[0m\u001b[0;34m:\u001b[0m \u001b[0mint\u001b[0m\u001b[0;34m,\u001b[0m\u001b[0;34m\u001b[0m\n",
       "\u001b[0;34m\u001b[0m    \u001b[0mtemp\u001b[0m\u001b[0;34m:\u001b[0m \u001b[0mfloat\u001b[0m\u001b[0;34m,\u001b[0m\u001b[0;34m\u001b[0m\n",
       "\u001b[0;34m\u001b[0m    \u001b[0mmut_prop\u001b[0m\u001b[0;34m:\u001b[0m \u001b[0mfloat\u001b[0m\u001b[0;34m,\u001b[0m\u001b[0;34m\u001b[0m\n",
       "\u001b[0;34m\u001b[0m\u001b[0;34m)\u001b[0m\u001b[0;34m\u001b[0m\u001b[0;34m\u001b[0m\u001b[0m\n",
       "\u001b[0;31mDocstring:\u001b[0m\n",
       "Runs a simple MCMC optimizing distribution of binary labels\n",
       ":param column: array of encoded column characters\n",
       ":param labels: array of initial binary labels\n",
       ":param steps: number of steps\n",
       ":param temp: temperature\n",
       ":param mut_prop: proportion of characters allowed to mutate\n",
       ":return: best solution found during the run\n",
       "\u001b[0;31mFile:\u001b[0m      ~/Projects/in/selecting_positions/MC_sep.py\n",
       "\u001b[0;31mType:\u001b[0m      function\n"
      ]
     },
     "metadata": {},
     "output_type": "display_data"
    }
   ],
   "source": [
    "?run"
   ]
  },
  {
   "cell_type": "markdown",
   "metadata": {},
   "source": [
    "At each step, the proposal is generated based on the current state. \n",
    "Currently, the `step` function is based on flipping the labels (0 to 1 and vice versa) at $M * len(sequence)$ random positions.The acceptance probability is given as $e^{-T * (gain(proposal) - gain(current))}$ where $T$ is a (unitless) temperature parameter, and the $gain(x)=entropy(column) - entropy(set_1) - entropy(set_2)$. We seek to find a sequence with the highest gain in entropy after we merge two subsequences back into a column. The hightest gain is achieved when the entropy of subsets is the lowest."
   ]
  },
  {
   "cell_type": "code",
   "execution_count": 9,
   "metadata": {},
   "outputs": [],
   "source": [
    "T = 0.5    # temperature\n",
    "N = 10000  # number of steps\n",
    "M = 0.15   # fraction of the column characters flipping labels at each step of simulation\n",
    "optimized_labels = run(col, init_lab, N, T, M)"
   ]
  },
  {
   "cell_type": "code",
   "execution_count": 10,
   "metadata": {},
   "outputs": [
    {
     "name": "stdout",
     "output_type": "stream",
     "text": [
      "initial entropy gain: 1.1364254343128142\n",
      "final entropy gain: 1.3212457828271\n"
     ]
    }
   ],
   "source": [
    "print(f\"initial entropy gain: {entropy_gain(init_lab, col)}\")\n",
    "print(f\"final entropy gain: {entropy_gain(optimized_labels, col)}\")"
   ]
  },
  {
   "cell_type": "markdown",
   "metadata": {},
   "source": [
    "The optimized labels can be scored according to a fraction of matching labels."
   ]
  },
  {
   "cell_type": "code",
   "execution_count": 11,
   "metadata": {},
   "outputs": [
    {
     "name": "stdout",
     "output_type": "stream",
     "text": [
      "initial column score: 0.51\n",
      "final column score: 0.4\n"
     ]
    }
   ],
   "source": [
    "print(f\"initial column score: {score(true_lab, init_lab)}\")\n",
    "print(f\"final column score: {score(true_lab, optimized_labels)}\")"
   ]
  },
  {
   "cell_type": "markdown",
   "metadata": {},
   "source": [
    "Finally, let's do the same via command-line interface. Here, the ouput of the program will be the final score of the column."
   ]
  },
  {
   "cell_type": "code",
   "execution_count": 12,
   "metadata": {},
   "outputs": [
    {
     "name": "stdout",
     "output_type": "stream",
     "text": [
      "Usage: MC_sep.py [OPTIONS]\n",
      "\n",
      "  The tool runs MC for optimization of the alignment column separation into\n",
      "  two subsets with minimal entropy.\n",
      "\n",
      "Options:\n",
      "  -i, --inp FILENAME    path to a file where the first line is a sequence of\n",
      "                        characters, the second line is a true binary labeling,\n",
      "                        and the third line is optional initial (guess)\n",
      "                        labeling  [required]\n",
      "\n",
      "  -I, --init            a flag whether the third line -- guess labeling -- is\n",
      "                        to be used\n",
      "\n",
      "  -N, --steps INTEGER   a number of steps to run the algorithm\n",
      "  -T, --temp FLOAT      unitless temperature factor\n",
      "  -M, --mut_prop FLOAT  proportion of the labels in the sequence which are\n",
      "                        allowed to change at each step\n",
      "\n",
      "  --help                Show this message and exit.\n"
     ]
    }
   ],
   "source": [
    "! python3 MC_sep.py --help"
   ]
  },
  {
   "cell_type": "code",
   "execution_count": 13,
   "metadata": {},
   "outputs": [
    {
     "name": "stdout",
     "output_type": "stream",
     "text": [
      "0.57\n"
     ]
    }
   ],
   "source": [
    "! python3 MC_sep.py -i ./test_samples/col.txt -N 10000 -T 0.5 -M 0.2"
   ]
  },
  {
   "cell_type": "markdown",
   "metadata": {},
   "source": [
    "## Performance\n",
    "Finally, let's see check time performance of the most utilized functions\n",
    "\n",
    "First, let's profile the `run` function"
   ]
  },
  {
   "cell_type": "code",
   "execution_count": 14,
   "metadata": {},
   "outputs": [
    {
     "name": "stdout",
     "output_type": "stream",
     "text": [
      " "
     ]
    },
    {
     "data": {
      "text/plain": [
       "         1780127 function calls (1660118 primitive calls) in 2.435 seconds\n",
       "\n",
       "   Ordered by: internal time\n",
       "\n",
       "   ncalls  tottime  percall  cumtime  percall filename:lineno(function)\n",
       "    40003    0.351    0.000    1.905    0.000 MC_sep.py:90(entropy)\n",
       "    40003    0.307    0.000    1.067    0.000 arraysetops.py:298(_unique1d)\n",
       "    90006    0.296    0.000    0.296    0.000 {method 'reduce' of 'numpy.ufunc' objects}\n",
       "170012/50003    0.205    0.000    1.329    0.000 {built-in method numpy.core._multiarray_umath.implement_array_function}\n",
       "    40003    0.203    0.000    0.253    0.000 function_base.py:1141(diff)\n",
       "    10000    0.130    0.000    0.260    0.000 {method 'choice' of 'numpy.random.mtrand.RandomState' objects}\n",
       "        1    0.089    0.089    2.435    2.435 MC_sep.py:38(run)\n",
       "    40003    0.086    0.000    0.086    0.000 {method 'sort' of 'numpy.ndarray' objects}\n",
       "    20001    0.080    0.000    1.984    0.000 MC_sep.py:96(entropy_gain)\n",
       "    40003    0.065    0.000    1.179    0.000 arraysetops.py:151(unique)\n",
       "    10000    0.047    0.000    0.347    0.000 MC_sep.py:68(flip_labels)\n",
       "    80006    0.040    0.000    0.309    0.000 {method 'sum' of 'numpy.ndarray' objects}\n",
       "    40003    0.039    0.000    0.039    0.000 {built-in method numpy.empty}\n",
       "   120009    0.038    0.000    0.038    0.000 {built-in method numpy.array}\n",
       "    40003    0.033    0.000    0.033    0.000 {method 'flatten' of 'numpy.ndarray' objects}\n",
       "   120009    0.032    0.000    0.070    0.000 _asarray.py:88(asanyarray)\n",
       "    10000    0.031    0.000    0.099    0.000 fromnumeric.py:73(_wrapreduction)\n",
       "    40003    0.028    0.000    1.245    0.000 <__array_function__ internals>:2(unique)\n",
       "    80006    0.024    0.000    0.269    0.000 _methods.py:36(_sum)\n",
       "    40003    0.024    0.000    0.119    0.000 <__array_function__ internals>:2(nonzero)\n",
       "    40003    0.024    0.000    0.309    0.000 <__array_function__ internals>:2(diff)\n",
       "    40003    0.023    0.000    0.054    0.000 fromnumeric.py:55(_wrapfunc)\n",
       "    40003    0.023    0.000    0.156    0.000 <__array_function__ internals>:2(concatenate)\n",
       "    40003    0.022    0.000    0.022    0.000 {method 'nonzero' of 'numpy.ndarray' objects}\n",
       "    10000    0.018    0.000    0.018    0.000 {built-in method numpy.arange}\n",
       "    40003    0.018    0.000    0.072    0.000 fromnumeric.py:1804(nonzero)\n",
       "    50003    0.017    0.000    0.017    0.000 {built-in method builtins.getattr}\n",
       "    10000    0.015    0.000    0.015    0.000 {method 'rand' of 'numpy.random.mtrand.RandomState' objects}\n",
       "    40003    0.014    0.000    0.014    0.000 {built-in method numpy.core._multiarray_umath.normalize_axis_index}\n",
       "    40003    0.014    0.000    0.019    0.000 arraysetops.py:138(_unpack_tuple)\n",
       "    90007    0.013    0.000    0.013    0.000 {built-in method builtins.len}\n",
       "    10000    0.013    0.000    0.112    0.000 fromnumeric.py:2843(prod)\n",
       "    10000    0.011    0.000    0.011    0.000 {method 'astype' of 'numpy.ndarray' objects}\n",
       "    10001    0.009    0.000    0.009    0.000 {method 'copy' of 'numpy.ndarray' objects}\n",
       "    10000    0.008    0.000    0.130    0.000 <__array_function__ internals>:2(prod)\n",
       "    40003    0.007    0.000    0.007    0.000 function_base.py:1137(_diff_dispatcher)\n",
       "    40003    0.007    0.000    0.007    0.000 arraysetops.py:146(_unique_dispatcher)\n",
       "    40003    0.007    0.000    0.007    0.000 multiarray.py:145(concatenate)\n",
       "    40003    0.007    0.000    0.007    0.000 fromnumeric.py:1800(_nonzero_dispatcher)\n",
       "    10000    0.006    0.000    0.006    0.000 fromnumeric.py:74(<dictcomp>)\n",
       "    40003    0.006    0.000    0.006    0.000 {method 'append' of 'list' objects}\n",
       "    10000    0.002    0.000    0.002    0.000 fromnumeric.py:2838(_prod_dispatcher)\n",
       "    10000    0.002    0.000    0.002    0.000 {method 'items' of 'dict' objects}\n",
       "        1    0.000    0.000    2.435    2.435 {built-in method builtins.exec}\n",
       "        1    0.000    0.000    2.435    2.435 <string>:1(<module>)\n",
       "        1    0.000    0.000    0.000    0.000 {method 'disable' of '_lsprof.Profiler' objects}"
      ]
     },
     "metadata": {},
     "output_type": "display_data"
    }
   ],
   "source": [
    "%%prun\n",
    "run(col, init_lab, N, T, M)"
   ]
  },
  {
   "cell_type": "code",
   "execution_count": 15,
   "metadata": {},
   "outputs": [
    {
     "name": "stdout",
     "output_type": "stream",
     "text": [
      "CPU times: user 1.9 s, sys: 8.95 ms, total: 1.91 s\n",
      "Wall time: 1.92 s\n"
     ]
    },
    {
     "data": {
      "text/plain": [
       "array([0, 0, 1, 0, 1, 1, 1, 0, 0, 1, 0, 1, 0, 0, 0, 0, 1, 0, 0, 0, 1, 0,\n",
       "       0, 0, 0, 0, 1, 0, 1, 0, 1, 0, 0, 1, 1, 1, 0, 1, 0, 0, 0, 0, 0, 0,\n",
       "       0, 1, 1, 0, 0, 0, 1, 1, 0, 0, 0, 0, 1, 0, 0, 1, 0, 0, 1, 0, 0, 1,\n",
       "       1, 0, 0, 0, 0, 0, 0, 1, 0, 0, 1, 0, 0, 1, 1, 1, 0, 1, 0, 0, 0, 1,\n",
       "       0, 0, 0, 0, 0, 1, 0, 1, 0, 0, 1, 1, 1, 0, 0, 1, 1, 1, 0, 0, 0, 1,\n",
       "       1, 0, 0, 0, 1, 0, 0, 0, 0, 0, 0, 0, 1, 0, 0, 0, 0, 0, 0, 0, 1, 1,\n",
       "       1, 0, 0, 1, 1, 1, 0, 0, 0, 0, 1, 0, 1, 0, 0, 1, 0, 0])"
      ]
     },
     "execution_count": 15,
     "metadata": {},
     "output_type": "execute_result"
    }
   ],
   "source": [
    "%%time\n",
    "run(col, init_lab, N, T, M);"
   ]
  },
  {
   "cell_type": "markdown",
   "metadata": {},
   "source": [
    "As expected, the `entropy` has the most calls."
   ]
  },
  {
   "cell_type": "code",
   "execution_count": 16,
   "metadata": {},
   "outputs": [
    {
     "name": "stdout",
     "output_type": "stream",
     "text": [
      "30 µs ± 135 ns per loop (mean ± std. dev. of 7 runs, 10000 loops each)\n"
     ]
    }
   ],
   "source": [
    "%timeit entropy(init_lab)"
   ]
  },
  {
   "cell_type": "markdown",
   "metadata": {},
   "source": [
    "## Sanity check"
   ]
  },
  {
   "cell_type": "code",
   "execution_count": 17,
   "metadata": {},
   "outputs": [
    {
     "data": {
      "application/vnd.jupyter.widget-view+json": {
       "model_id": "a37659012fc148adad6f1922b73112a7",
       "version_major": 2,
       "version_minor": 0
      },
      "text/plain": [
       "HBox(children=(FloatProgress(value=1.0, bar_style='info', max=1.0), HTML(value='')))"
      ]
     },
     "metadata": {},
     "output_type": "display_data"
    },
    {
     "name": "stdout",
     "output_type": "stream",
     "text": [
      "\n",
      "CPU times: user 1min 27s, sys: 246 ms, total: 1min 28s\n",
      "Wall time: 1min 28s\n"
     ]
    }
   ],
   "source": [
    "%%time\n",
    "T = 0.5\n",
    "N = 10000\n",
    "M = 0.3\n",
    "runs = (run(col, init_lab, N, T, M) for _ in range(50))\n",
    "results = [(i, entropy_gain(opt, col), score(true_lab, opt)) for i, opt in enumerate(tqdm(runs))]"
   ]
  },
  {
   "cell_type": "code",
   "execution_count": 18,
   "metadata": {},
   "outputs": [
    {
     "data": {
      "text/plain": [
       "Text(0, 0.5, 'Score')"
      ]
     },
     "execution_count": 18,
     "metadata": {},
     "output_type": "execute_result"
    },
    {
     "data": {
      "image/png": "[encoded data removed]",
      "text/plain": [
       "<Figure size 432x288 with 1 Axes>"
      ]
     },
     "metadata": {
      "needs_background": "light"
     },
     "output_type": "display_data"
    }
   ],
   "source": [
    "sns.scatterplot(x=[e for _, e, _ in results], y=[s for _, _, s in results])\n",
    "plt.xlabel('Entropy gain')\n",
    "plt.ylabel('Score')"
   ]
  }
 ],
 "metadata": {
  "kernelspec": {
   "display_name": "Python 3",
   "language": "python",
   "name": "python3"
  },
  "language_info": {
   "codemirror_mode": {
    "name": "ipython",
    "version": 3
   },
   "file_extension": ".py",
   "mimetype": "text/x-python",
   "name": "python",
   "nbconvert_exporter": "python",
   "pygments_lexer": "ipython3",
   "version": "3.8.2"
  }
 },
 "nbformat": 4,
 "nbformat_minor": 4
}
